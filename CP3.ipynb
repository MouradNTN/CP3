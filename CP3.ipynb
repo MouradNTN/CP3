{
 "cells": [
  {
   "cell_type": "code",
   "execution_count": 2,
   "id": "ef9a7e5f",
   "metadata": {},
   "outputs": [
    {
     "name": "stdout",
     "output_type": "stream",
     "text": [
      "ma liste initiale est   []\n",
      "quel est le nombre d elements dans votre liste ? 3\n",
      "donner le element de votre liste : 2\n",
      "donner le element de votre liste : 3\n",
      "donner le element de votre liste : 4\n",
      "ta liste est   [2, 3, 4]\n",
      "24\n"
     ]
    }
   ],
   "source": [
    "#CP3 Q1 liste\n",
    "ma_liste=[]\n",
    "print(\"ma liste initiale est  \", ma_liste)\n",
    "l=int(input(\"quel est le nombre d elements dans votre liste ? \"))\n",
    "i=0\n",
    "p=1\n",
    "for i in range(l):\n",
    "    x=input(\"donner le element de votre liste : \")\n",
    "    ma_liste.append(int(x))\n",
    "    p=p*ma_liste[i]\n",
    "print(\"ta liste est  \",ma_liste)\n",
    "print(p)"
   ]
  },
  {
   "cell_type": "code",
   "execution_count": 3,
   "id": "4d1e7087",
   "metadata": {},
   "outputs": [
    {
     "name": "stdout",
     "output_type": "stream",
     "text": [
      "[]\n",
      "donner le premier element de votre liste :  2\n",
      "premier entier 2\n",
      "le premier element est,  2\n",
      "donner l'élément suivant de votre liste : 3\n",
      "donner l'élément suivant  :: ,6\n",
      "donner l'élément suivant  :: ,10\n",
      "votre liste construite est  [2, 3, 6]\n",
      "le produit des éléments est :   36\n"
     ]
    }
   ],
   "source": [
    "#CP3 Q1 --- 2 ---\n",
    "#construction de la liste\n",
    "ma_liste=[]\n",
    "print(ma_liste)\n",
    "#ma_liste[0]=int(input(\"donner le premier entier pour votre liste  : \"))\n",
    "#ma_liste[0]=int(x)\n",
    "y=int(input(\"donner le premier element de votre liste :  \"))\n",
    "print(\"premier entier\",y)\n",
    "ma_liste.append(y)\n",
    "print(\"le premier element est, \",ma_liste[0])\n",
    "#ma_liste=ma_liste.append(y)\n",
    "#print(ma_liste)\n",
    "#print(\"ok\")\n",
    "x=input(\"donner l'élément suivant de votre liste : \")\n",
    "ma_liste.append(int(x))\n",
    "#z==0\n",
    "i=1\n",
    "while int(x)!=10:\n",
    "    x=int(input(\"donner l'élément suivant  :: ,\"))\n",
    "    if (x==10): \n",
    "        break\n",
    "    ma_liste.append(x)\n",
    "    #print(ma_liste)\n",
    "    #ma_liste[i]=int(input(\"donner l'élément suivant de votre liste\"))\n",
    "    #i+=1\n",
    "print(\"votre liste construite est \", ma_liste)\n",
    "def pdt_liste(liste):\n",
    "    p=1\n",
    "    for i in liste:\n",
    "        p=p*i\n",
    "    print(\"le produit des éléments est :  \",p)\n",
    "pdt_liste(ma_liste)"
   ]
  },
  {
   "cell_type": "code",
   "execution_count": 4,
   "id": "65a07738",
   "metadata": {},
   "outputs": [
    {
     "name": "stdout",
     "output_type": "stream",
     "text": [
      "()\n",
      "donner x :2\n",
      "donner y 1\n",
      "donner x :2\n",
      "donner y 3\n",
      "donner x :0\n",
      "donner y 2\n",
      "votre liste  : [(2, 1), (2, 3), (0, 2)]\n",
      "liste avec classement :   [(2, 1), (0, 2), (2, 3)]\n"
     ]
    }
   ],
   "source": [
    "#CP3  ---Q2----\n",
    "list=[]\n",
    "tuple=()\n",
    "print(tuple)\n",
    "for i in range(3):\n",
    "    (x,y)=int(input(\"donner x :\")),int(input(\"donner y \"))\n",
    "    list.append((x,y))\n",
    "#print((x,y))\n",
    "print(\"votre liste  :\",list)\n",
    "def get_element(liste):\n",
    "    return liste[-1]\n",
    "\n",
    "list.sort(key=get_element)\n",
    "print(\"liste avec classement :  \",list)\n"
   ]
  },
  {
   "cell_type": "code",
   "execution_count": 14,
   "id": "c357802d",
   "metadata": {},
   "outputs": [
    {
     "name": "stdout",
     "output_type": "stream",
     "text": [
      "{'a': 400, 'b': 400}\n",
      "salut\n"
     ]
    }
   ],
   "source": [
    "#pas complet ...Q3\n",
    "dict_1={'a':100,'b':200,'c':300}\n",
    "dict_2={'a':300,'b':200,'d':400}\n",
    "dict={}\n",
    "for i in dict_1:\n",
    "    #print(i)\n",
    "    #print(dict_1[i])\n",
    "    if i in dict_2:\n",
    "        dict[i]=dict_1[i]+dict_2[i]\n",
    "    else:\n",
    "        dict_1.update(dict_2)\n",
    "    \n",
    "\n",
    "print(dict)\n",
    "        \n",
    "print(\"salut\")\n",
    "#print(dict_1.keys()+dict_2.keys())        \n",
    "    "
   ]
  },
  {
   "cell_type": "code",
   "execution_count": 22,
   "id": "0c1ca29e",
   "metadata": {},
   "outputs": [
    {
     "name": "stdout",
     "output_type": "stream",
     "text": [
      "{}\n",
      "{1: 1, 2: 4, 3: 9, 4: 16, 5: 25, 6: 36, 7: 49, 8: 64}\n"
     ]
    }
   ],
   "source": [
    "#CP3 ----Q4 -----\n",
    "dict={}\n",
    "#dict[1]='a'\n",
    "print(dict)\n",
    "i2=0\n",
    "for i in range(1,9):\n",
    "    #i2=i*i\n",
    "    dict[i]=i*i\n",
    "print(dict)\n",
    "    \n",
    "    \n",
    "  "
   ]
  },
  {
   "cell_type": "code",
   "execution_count": 23,
   "id": "5effe776",
   "metadata": {},
   "outputs": [
    {
     "name": "stdout",
     "output_type": "stream",
     "text": [
      "[(2, 1), (0, 2), (2, 3)]\n",
      "[('item3', 24.5), ('item2', 15.1), ('item1', 12.2)]\n"
     ]
    }
   ],
   "source": [
    "#CP3  --- Q5 ---\n",
    "liste=[('item1',12.20),('item2',15.10),('item3',24.5)]\n",
    "print(list)\n",
    "def get_element(liste):\n",
    "    return liste[-1]\n",
    "\n",
    "liste.sort(key=get_element,reverse=True)\n",
    "print(liste)\n",
    "    "
   ]
  },
  {
   "cell_type": "code",
   "execution_count": 28,
   "id": "f4c9c757",
   "metadata": {},
   "outputs": [
    {
     "name": "stdout",
     "output_type": "stream",
     "text": [
      "dict_keys(['a', 'b', 'c'])\n",
      "dict_keys(['a', 'b', 'd'])\n",
      "{'a': 100, 'b': 200, 'c': 300}\n"
     ]
    }
   ],
   "source": [
    "dict_1={'a':100,'b':200,'c':300}\n",
    "dict_2={'a':300,'b':200,'d':400}\n",
    "dict={}\n",
    "print(dict_1.keys())\n",
    "print(dict_2.keys())\n",
    "dict.update(dict_1)\n",
    "print(dict)\n",
    "\n",
    "        "
   ]
  },
  {
   "cell_type": "code",
   "execution_count": 24,
   "id": "46f29a07",
   "metadata": {},
   "outputs": [
    {
     "name": "stdout",
     "output_type": "stream",
     "text": [
      "dict3 {'a': 300, 'b': 200, 'c': 300, 'd': 400}\n",
      "dict5 {'a': 100, 'b': 200, 'd': 400, 'c': 300}\n",
      "{'a': 300, 'b': 200, 'c': 300, 'd': 400}\n"
     ]
    }
   ],
   "source": [
    "#simple test----\n",
    "dict_1={'a':100,'b':200,'c':300}\n",
    "dict_2={'a':300,'b':200,'d':400}\n",
    "dict3=dict_1|dict_2\n",
    "dict5=dict_2|dict_1\n",
    "dict4={**dict_1,**dict_2}\n",
    "print('dict3',dict3)\n",
    "print('dict5', dict5)\n",
    "print(dict4)\n",
    "#{'a': 300, 'b': 200, 'c': 300, 'd': 400}\n"
   ]
  },
  {
   "cell_type": "code",
   "execution_count": 26,
   "id": "7cd01c15",
   "metadata": {},
   "outputs": [
    {
     "name": "stdout",
     "output_type": "stream",
     "text": [
      "dict_1 :  {'a': 100, 'b': 200, 'c': 300}\n",
      "dict_2 :  {'a': 300, 'b': 200, 'd': 400}\n",
      "dict_3 output :  {'a': 400, 'b': 400, 'c': 300, 'd': 400}\n"
     ]
    }
   ],
   "source": [
    "# ...Q3----***----\n",
    "dict_1={'a':100,'b':200,'c':300}\n",
    "print('dict_1 : ',dict_1)\n",
    "dict_2={'a':300,'b':200,'d':400}\n",
    "print('dict_2 : ',dict_2)\n",
    "dict_3={}\n",
    "#dict_3['a']=dict_1['a']+dict_2['a']\n",
    "#print(dict_3)\n",
    "#print('salut')\n",
    "for i in dict_1 :\n",
    "    if i in dict_2:\n",
    "        dict_3[i]=dict_1[i]+dict_2[i]\n",
    "    else:\n",
    "        dict_3[i]=dict_1[i]\n",
    "for i in dict_2:\n",
    "    if i not in dict_1:\n",
    "        dict_3[i]=dict_2[i]\n",
    "\n",
    "print('dict_3 output : ',dict_3)\n"
   ]
  },
  {
   "cell_type": "code",
   "execution_count": 33,
   "id": "93375d9f",
   "metadata": {},
   "outputs": [
    {
     "name": "stdout",
     "output_type": "stream",
     "text": [
      "dict_1 :  {'a': 100, 'b': 200, 'c': 300}\n",
      "dict_2 :  {'a': 300, 'b': 200, 'd': 400}\n",
      "Counter({'a': 400, 'b': 400, 'd': 400, 'c': 300})\n",
      "step 1\n",
      "& :  Counter({'b': 200, 'a': 100})\n",
      "| : Counter({'d': 400, 'a': 300, 'c': 300, 'b': 200})\n"
     ]
    }
   ],
   "source": [
    "#---essais---\n",
    "from collections import Counter\n",
    "dict_1={'a':100,'b':200,'c':300}\n",
    "print('dict_1 : ',dict_1)\n",
    "dict_2={'a':300,'b':200,'d':400}\n",
    "print('dict_2 : ',dict_2)\n",
    "c=Counter(dict_1)\n",
    "d=Counter(dict_2)\n",
    "e=c+d\n",
    "print(e)\n",
    "e.items()\n",
    "print('step 1')\n",
    "f=c&d\n",
    "print('& : ',f)\n",
    "g=c|d\n",
    "print('| :',g)\n"
   ]
  },
  {
   "cell_type": "code",
   "execution_count": null,
   "id": "53f9c21e",
   "metadata": {},
   "outputs": [],
   "source": []
  }
 ],
 "metadata": {
  "kernelspec": {
   "display_name": "Python 3 (ipykernel)",
   "language": "python",
   "name": "python3"
  },
  "language_info": {
   "codemirror_mode": {
    "name": "ipython",
    "version": 3
   },
   "file_extension": ".py",
   "mimetype": "text/x-python",
   "name": "python",
   "nbconvert_exporter": "python",
   "pygments_lexer": "ipython3",
   "version": "3.9.12"
  }
 },
 "nbformat": 4,
 "nbformat_minor": 5
}
